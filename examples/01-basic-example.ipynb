{
 "cells": [
  {
   "cell_type": "code",
   "execution_count": 51,
   "metadata": {},
   "outputs": [
    {
     "name": "stdout",
     "output_type": "stream",
     "text": [
      "{'dimensions': {'time': {'existence_check': 'bool'}, 'diameter_classes': {'existence_check': 'bool'}, 'velocity_classes': {'existence_check': 'bool'}}, 'variables': {}, 'global_attributes': {'title': {'existence_check': 'bool', 'emptiness_check': 'bool'}}, 'file_size': {'lower_bound': 'int', 'upper_bound': 'int'}}\n"
     ]
    }
   ],
   "source": [
    "from ncqc.create_config import create_config_dict_from_yaml, create_config_dict_from_dict\n",
    "config_dictionary = {\n",
    "        'dims': {\n",
    "            'time': {'existence_check': True},\n",
    "            'diameter_classes': {'existence_check': True},\n",
    "            'velocity_classes': {'existence_check': True}\n",
    "        },\n",
    "        # 'vars':{\n",
    "        #     'latitude': {'existence_check': True},\n",
    "        # },\n",
    "        'gbl_attrs': {\n",
    "            'title': {'existence_check': True},\n",
    "            # 'sensor_type':{'existence_check': True},\n",
    "            # 'sensor_type': {'existence_check': True}\n",
    "        }\n",
    "}\n",
    "output_dict = create_config_dict_from_dict(\n",
    "    input_dict=config_dictionary,\n",
    "    dimensions_name=\"dims\",\n",
    "    variables_name=\"vars\",\n",
    "    global_attributes_name=\"gbl_attrs\"\n",
    ")\n",
    "\n",
    "print(output_dict)"
   ]
  },
  {
   "cell_type": "code",
   "execution_count": 52,
   "metadata": {},
   "outputs": [
    {
     "name": "stdout",
     "output_type": "stream",
     "text": [
      "{'errors': ['missing global attributes checks in provided config_file/dict',\n",
      "            'missing file size check in provided config_file/dict'],\n",
      " 'info': ['no dimensions were checked',\n",
      "          'no variables were checked',\n",
      "          'no global attributes were checked',\n",
      "          'no variables were checked for emptiness',\n",
      "          'no global attributes were checked for emptiness'],\n",
      " 'report_date': '01-08-2024',\n",
      " 'report_time': '15:48:45',\n",
      " 'warnings': []}\n"
     ]
    }
   ],
   "source": [
    "from ncqc.QCnetCDF import QualityControl\n",
    "from pprint import pprint \n",
    "\n",
    "qc_obj = QualityControl()\n",
    "\n",
    "qc_obj.add_qc_checks_dict(output_dict)\n",
    "\n",
    "qc_obj.load_netcdf('examples/20240730_TNO_Westmaas-WESTMAAS_PAR004.nc')\n",
    "\n",
    "qc_obj.perform_all_checks()\n",
    "# qc_obj.file_size_check()\n",
    "\n",
    "\n",
    "# Create a report and access it\n",
    "report = qc_obj.create_report()\n",
    "pprint(report)"
   ]
  },
  {
   "cell_type": "markdown",
   "metadata": {},
   "source": [
    "acastro 2024.08.01:\n",
    "\n",
    "why is the god darn checks on the 2 dims existence being performed?\n",
    "\n",
    "The library seems over complicated to use.\n",
    "\n",
    "There is a bit of redundancy in the config loading methods.\n",
    "\n",
    "The checks methods should give some quick feedback to the user\n",
    "\n",
    "Dont understand why tests run in relation to a config (does config need to specify dims, vars and global attrs??) "
   ]
  }
 ],
 "metadata": {
  "kernelspec": {
   "display_name": "Python 3 (ipykernel)",
   "language": "python",
   "name": "python3"
  },
  "language_info": {
   "codemirror_mode": {
    "name": "ipython",
    "version": 3
   },
   "file_extension": ".py",
   "mimetype": "text/x-python",
   "name": "python",
   "nbconvert_exporter": "python",
   "pygments_lexer": "ipython3",
   "version": "3.10.7"
  }
 },
 "nbformat": 4,
 "nbformat_minor": 2
}
